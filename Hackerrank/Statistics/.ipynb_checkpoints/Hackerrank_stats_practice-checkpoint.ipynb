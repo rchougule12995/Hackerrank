{
 "cells": [
  {
   "cell_type": "code",
   "execution_count": 42,
   "metadata": {},
   "outputs": [
    {
     "name": "stdout",
     "output_type": "stream",
     "text": [
      "Enter: 10\n",
      "Numbers: 9 9 9 8 10 1 10 5 6 7\n"
     ]
    }
   ],
   "source": [
    "n=input()\n",
    "numbers=input()"
   ]
  },
  {
   "cell_type": "code",
   "execution_count": 43,
   "metadata": {},
   "outputs": [],
   "source": [
    "n=int(n)\n",
    "numbers = (numbers.split(\" \"))\n",
    "num_list = []\n",
    "for i in numbers:\n",
    "    i=int(i)\n",
    "    num_list.append(i)"
   ]
  },
  {
   "cell_type": "code",
   "execution_count": 48,
   "metadata": {},
   "outputs": [
    {
     "name": "stdout",
     "output_type": "stream",
     "text": [
      "7.4\n",
      "8.5\n",
      "{1: 1, 5: 1, 6: 1, 7: 1, 8: 1, 9: 3, 10: 2}\n",
      "9\n"
     ]
    }
   ],
   "source": [
    "mean = sum(num_list)/int(n)\n",
    "print(mean)\n",
    "\n",
    "num_list.sort()\n",
    "if(n%2==0):\n",
    "    #print((num_list[int(n/2)],num_list[int((n/2)-1)]))\n",
    "    print((num_list[int(n/2)] + num_list[int((n/2)-1)])/2)\n",
    "elif(n%2!=0):\n",
    "    print(num_list[int(n/2)+1])\n",
    "\n",
    "counter = {}\n",
    "for i in num_list:\n",
    "    count=(num_list.count(i))\n",
    "    counter.update({i:count})\n",
    "\n",
    "#print((counter))\n",
    "key_max = max(counter.keys(), key=(lambda k: counter[k]))\n",
    "print(key_max)"
   ]
  },
  {
   "cell_type": "code",
   "execution_count": null,
   "metadata": {},
   "outputs": [],
   "source": []
  }
 ],
 "metadata": {
  "kernelspec": {
   "display_name": "Python 3",
   "language": "python",
   "name": "python3"
  },
  "language_info": {
   "codemirror_mode": {
    "name": "ipython",
    "version": 3
   },
   "file_extension": ".py",
   "mimetype": "text/x-python",
   "name": "python",
   "nbconvert_exporter": "python",
   "pygments_lexer": "ipython3",
   "version": "3.7.3"
  }
 },
 "nbformat": 4,
 "nbformat_minor": 2
}
